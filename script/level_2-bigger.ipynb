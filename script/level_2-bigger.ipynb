{
 "cells": [
  {
   "cell_type": "code",
   "execution_count": 1,
   "id": "60bd29d8",
   "metadata": {},
   "outputs": [],
   "source": [
    "import numpy as np\n",
    "import pandas as pd\n",
    "import matplotlib.pyplot as plt\n",
    "import json\n",
    "import multiprocessing"
   ]
  },
  {
   "cell_type": "code",
   "execution_count": 2,
   "id": "fcc2cc9e",
   "metadata": {},
   "outputs": [],
   "source": [
    "sample_set = pd.read_table('../test_set_1/ts1_input.txt', names = ['Test'])"
   ]
  },
  {
   "cell_type": "code",
   "execution_count": 3,
   "id": "4b698d13",
   "metadata": {},
   "outputs": [
    {
     "data": {
      "text/html": [
       "<div>\n",
       "<style scoped>\n",
       "    .dataframe tbody tr th:only-of-type {\n",
       "        vertical-align: middle;\n",
       "    }\n",
       "\n",
       "    .dataframe tbody tr th {\n",
       "        vertical-align: top;\n",
       "    }\n",
       "\n",
       "    .dataframe thead th {\n",
       "        text-align: right;\n",
       "    }\n",
       "</style>\n",
       "<table border=\"1\" class=\"dataframe\">\n",
       "  <thead>\n",
       "    <tr style=\"text-align: right;\">\n",
       "      <th></th>\n",
       "      <th>Test</th>\n",
       "    </tr>\n",
       "  </thead>\n",
       "  <tbody>\n",
       "    <tr>\n",
       "      <th>0</th>\n",
       "      <td>50</td>\n",
       "    </tr>\n",
       "    <tr>\n",
       "      <th>1</th>\n",
       "      <td>10</td>\n",
       "    </tr>\n",
       "    <tr>\n",
       "      <th>2</th>\n",
       "      <td>0010000010010010001011001110100101000000000000...</td>\n",
       "    </tr>\n",
       "    <tr>\n",
       "      <th>3</th>\n",
       "      <td>0111001010110010111000100110110101010000001110...</td>\n",
       "    </tr>\n",
       "    <tr>\n",
       "      <th>4</th>\n",
       "      <td>0110000000110011011001001101110101000001000100...</td>\n",
       "    </tr>\n",
       "  </tbody>\n",
       "</table>\n",
       "</div>"
      ],
      "text/plain": [
       "                                                Test\n",
       "0                                                 50\n",
       "1                                                 10\n",
       "2  0010000010010010001011001110100101000000000000...\n",
       "3  0111001010110010111000100110110101010000001110...\n",
       "4  0110000000110011011001001101110101000001000100..."
      ]
     },
     "execution_count": 3,
     "metadata": {},
     "output_type": "execute_result"
    }
   ],
   "source": [
    "sample_set.head()"
   ]
  },
  {
   "cell_type": "code",
   "execution_count": 4,
   "id": "7fe86146",
   "metadata": {},
   "outputs": [],
   "source": [
    "# Prvý riadok vstupu udáva počet testovacích prípadov T. \n",
    "T = sample_set.Test[0]"
   ]
  },
  {
   "cell_type": "code",
   "execution_count": 5,
   "id": "ac2fa51a",
   "metadata": {},
   "outputs": [],
   "source": [
    "# Druhý riadok vstupu udáva percento testovacích prípadov P, na ktoré musíte správne odpovedať, \n",
    "# aby sa vaše riešenie považovalo za správne.\n",
    "P = sample_set.Test[1]"
   ]
  },
  {
   "cell_type": "code",
   "execution_count": 6,
   "id": "54cbcd8d",
   "metadata": {},
   "outputs": [],
   "source": [
    "n = 2\n",
    "test_cases = sample_set.drop(index = sample_set.index[:n])"
   ]
  },
  {
   "cell_type": "code",
   "execution_count": 7,
   "id": "eafa59cd",
   "metadata": {},
   "outputs": [],
   "source": [
    "def split(word):\n",
    "    return [char for char in word]"
   ]
  },
  {
   "cell_type": "code",
   "execution_count": 8,
   "id": "d08230ec",
   "metadata": {},
   "outputs": [],
   "source": [
    "# Keď sa hráč i pokúsi odpovedať na otázku j, pravdepodobnosť, \n",
    "# že na ňu odpovie správne, je f( Si − Qj ), kde f je sigmoidná funkcia:\n",
    "import numpy as np\n",
    "\n",
    "def sigmoid(x):\n",
    "    return 1/(1 + np.exp(-x))"
   ]
  },
  {
   "cell_type": "code",
   "execution_count": 9,
   "id": "468ea099",
   "metadata": {},
   "outputs": [],
   "source": [
    "def fair_probability(si, qj):\n",
    "    return sigmoid(si - qj)"
   ]
  },
  {
   "cell_type": "code",
   "execution_count": 10,
   "id": "1ab65b4d",
   "metadata": {},
   "outputs": [],
   "source": [
    "## Hráč i má úroveň zručností Si a otázka j má úroveň obtiažnosti Qj.\n",
    "# každá obtiažnosť otázky sa vyberá jednotne a náhodne z rozsahu [−3.00, 3.00] \n",
    "decision_array = [-3.00, 3.00]"
   ]
  },
  {
   "cell_type": "code",
   "execution_count": 11,
   "id": "0f4cf161",
   "metadata": {},
   "outputs": [],
   "source": [
    "# reset index\n",
    "test_cases.reset_index(inplace=True)"
   ]
  },
  {
   "cell_type": "code",
   "execution_count": 14,
   "id": "c8c20f9c",
   "metadata": {},
   "outputs": [
    {
     "data": {
      "text/plain": [
       "100.0"
      ]
     },
     "execution_count": 14,
     "metadata": {},
     "output_type": "execute_result"
    }
   ],
   "source": [
    "len(test_cases['Test'])/ 50"
   ]
  },
  {
   "cell_type": "code",
   "execution_count": 16,
   "id": "75a37936",
   "metadata": {},
   "outputs": [
    {
     "data": {
      "text/plain": [
       "50"
      ]
     },
     "execution_count": 16,
     "metadata": {},
     "output_type": "execute_result"
    }
   ],
   "source": [
    "## Chunking\n",
    "n = int(len(test_cases['Test']) / int(T))  #chunk row size\n",
    "list_df = [test_cases[i:i+n] for i in range(0, test_cases.shape[0],n)]\n",
    "len(list_df)"
   ]
  },
  {
   "cell_type": "code",
   "execution_count": 17,
   "id": "702c2842",
   "metadata": {},
   "outputs": [
    {
     "name": "stdout",
     "output_type": "stream",
     "text": [
      "CPU times: user 3.29 s, sys: 10.5 ms, total: 3.3 s\n",
      "Wall time: 3.3 s\n"
     ]
    }
   ],
   "source": [
    "%%time\n",
    "\n",
    "row_lengths = 10000\n",
    "Qjs = [np.random.uniform(decision_array[0], decision_array[1]) for i in range(row_lengths)]\n",
    "\n",
    "diff_vals = []\n",
    "for index, row in list_df[0].iterrows():\n",
    "    const_of_diff = 0\n",
    "    Si = np.random.uniform(decision_array[0], decision_array[1])\n",
    "    \n",
    "    responses = np.array(split(row['Test'])).astype('int32')\n",
    "    sim_responses = np.array([fair_probability(Si, Qjs[i]) > 0.5 for i in range(row_lengths)])\n",
    "\n",
    "    for (sim_res, response) in zip(sim_responses, responses):\n",
    "        if sim_res != response:\n",
    "            const_of_diff += 1\n",
    "\n",
    "    diff_vals.append(const_of_diff)"
   ]
  },
  {
   "cell_type": "code",
   "execution_count": 18,
   "id": "9961a2f7",
   "metadata": {},
   "outputs": [],
   "source": [
    "def calculate_differences(data_frame):\n",
    "    row_lengths = 10000\n",
    "    Qjs = [np.random.uniform(decision_array[0], decision_array[1]) for i in range(row_lengths)]\n",
    "    diff_vals = []\n",
    "    for index, row in data_frame.iterrows():\n",
    "        const_of_diff = 0\n",
    "        Si = np.random.uniform(decision_array[0], decision_array[1])\n",
    "\n",
    "        responses = np.array(split(row['Test'])).astype('int32')\n",
    "        sim_responses = np.array([fair_probability(Si, Qjs[i]) > 0.5 for i in range(row_lengths)])\n",
    "\n",
    "        for (sim_res, response) in zip(sim_responses, responses):\n",
    "            if sim_res != response:\n",
    "                const_of_diff += 1\n",
    "\n",
    "        diff_vals.append(const_of_diff)\n",
    "    max_value = max(diff_vals)\n",
    "    return diff_vals.index(max_value)"
   ]
  },
  {
   "cell_type": "code",
   "execution_count": null,
   "id": "6d7b35e2",
   "metadata": {
    "scrolled": true
   },
   "outputs": [],
   "source": [
    "%%time\n",
    "\n",
    "output = map(calculate_differences, list_df)\n",
    "list(output)"
   ]
  },
  {
   "cell_type": "code",
   "execution_count": null,
   "id": "1574c1c2",
   "metadata": {},
   "outputs": [],
   "source": [
    "# %%time\n",
    "\n",
    "# row_lengths = 10000\n",
    "# solutions = []\n",
    "# for df in list_df:\n",
    "#     Qjs = [np.random.uniform(decision_array[0], decision_array[1]) for i in range(row_lengths)]\n",
    "\n",
    "#     diff_vals = []\n",
    "#     for index, row in list_df[0].iterrows():\n",
    "#         const_of_diff = 0\n",
    "#         Si = np.random.uniform(decision_array[0], decision_array[1])\n",
    "\n",
    "#         responses = np.array(split(row['Test'])).astype('int32')\n",
    "#         sim_responses = np.array([fair_probability(Si, Qjs[i]) > 0.5 for i in range(row_lengths)])\n",
    "\n",
    "#         for (sim_res, response) in zip(sim_responses, responses):\n",
    "#             if sim_res != response:\n",
    "#                 const_of_diff += 1\n",
    "\n",
    "#         diff_vals.append(const_of_diff)\n",
    "        \n",
    "#     max_value = max(diff_vals)\n",
    "#     max_index = diff_vals.index(max_value)\n",
    "#     solutions.append(max_index)"
   ]
  },
  {
   "cell_type": "code",
   "execution_count": null,
   "id": "f0257aa7",
   "metadata": {},
   "outputs": [],
   "source": [
    "# Init Wall time: 3min 29s\n",
    "# comprehension 1: 2min 26s\n",
    "# Comprehension 2: 2min 33s\n",
    "# Comprehension 2: 2min 34s"
   ]
  },
  {
   "cell_type": "code",
   "execution_count": 19,
   "id": "5c22084a",
   "metadata": {},
   "outputs": [
    {
     "name": "stdout",
     "output_type": "stream",
     "text": [
      "CPU times: user 8min 24s, sys: 2.99 s, total: 8min 27s\n",
      "Wall time: 8min 32s\n"
     ]
    }
   ],
   "source": [
    "%%time\n",
    "\n",
    "bootstrapped_sol = {}\n",
    "for m in range(3):\n",
    "    solutions = map(calculate_differences, list_df)\n",
    "    bootstrapped_sol[m] = list(solutions)"
   ]
  },
  {
   "cell_type": "code",
   "execution_count": null,
   "id": "323e864d",
   "metadata": {},
   "outputs": [],
   "source": [
    "# with open('midput2.txt', 'w') as f:\n",
    "#     f.write(json.dumps(bootstrapped_sol))"
   ]
  },
  {
   "cell_type": "code",
   "execution_count": 20,
   "id": "f38d5412",
   "metadata": {},
   "outputs": [
    {
     "data": {
      "text/plain": [
       "{0: [69,\n",
       "  54,\n",
       "  49,\n",
       "  77,\n",
       "  40,\n",
       "  14,\n",
       "  82,\n",
       "  83,\n",
       "  71,\n",
       "  6,\n",
       "  7,\n",
       "  41,\n",
       "  86,\n",
       "  97,\n",
       "  85,\n",
       "  36,\n",
       "  72,\n",
       "  12,\n",
       "  73,\n",
       "  33,\n",
       "  29,\n",
       "  46,\n",
       "  40,\n",
       "  25,\n",
       "  29,\n",
       "  43,\n",
       "  71,\n",
       "  0,\n",
       "  4,\n",
       "  27,\n",
       "  43,\n",
       "  9,\n",
       "  69,\n",
       "  97,\n",
       "  21,\n",
       "  40,\n",
       "  40,\n",
       "  1,\n",
       "  82,\n",
       "  75,\n",
       "  51,\n",
       "  15,\n",
       "  45,\n",
       "  65,\n",
       "  33,\n",
       "  70,\n",
       "  86,\n",
       "  19,\n",
       "  52,\n",
       "  54],\n",
       " 1: [17,\n",
       "  64,\n",
       "  30,\n",
       "  81,\n",
       "  62,\n",
       "  70,\n",
       "  43,\n",
       "  39,\n",
       "  27,\n",
       "  6,\n",
       "  89,\n",
       "  72,\n",
       "  60,\n",
       "  21,\n",
       "  86,\n",
       "  72,\n",
       "  2,\n",
       "  9,\n",
       "  57,\n",
       "  15,\n",
       "  37,\n",
       "  58,\n",
       "  89,\n",
       "  90,\n",
       "  71,\n",
       "  95,\n",
       "  60,\n",
       "  79,\n",
       "  62,\n",
       "  66,\n",
       "  75,\n",
       "  75,\n",
       "  75,\n",
       "  96,\n",
       "  86,\n",
       "  57,\n",
       "  7,\n",
       "  27,\n",
       "  98,\n",
       "  69,\n",
       "  10,\n",
       "  66,\n",
       "  50,\n",
       "  81,\n",
       "  37,\n",
       "  82,\n",
       "  18,\n",
       "  83,\n",
       "  53,\n",
       "  54],\n",
       " 2: [52,\n",
       "  55,\n",
       "  7,\n",
       "  10,\n",
       "  71,\n",
       "  95,\n",
       "  12,\n",
       "  70,\n",
       "  30,\n",
       "  6,\n",
       "  7,\n",
       "  15,\n",
       "  81,\n",
       "  31,\n",
       "  78,\n",
       "  36,\n",
       "  2,\n",
       "  72,\n",
       "  44,\n",
       "  62,\n",
       "  77,\n",
       "  26,\n",
       "  11,\n",
       "  19,\n",
       "  55,\n",
       "  77,\n",
       "  73,\n",
       "  71,\n",
       "  0,\n",
       "  73,\n",
       "  52,\n",
       "  43,\n",
       "  98,\n",
       "  45,\n",
       "  38,\n",
       "  8,\n",
       "  45,\n",
       "  82,\n",
       "  8,\n",
       "  70,\n",
       "  21,\n",
       "  3,\n",
       "  14,\n",
       "  60,\n",
       "  2,\n",
       "  81,\n",
       "  7,\n",
       "  64,\n",
       "  96,\n",
       "  11]}"
      ]
     },
     "execution_count": 20,
     "metadata": {},
     "output_type": "execute_result"
    }
   ],
   "source": [
    "bootstrapped_sol"
   ]
  },
  {
   "cell_type": "code",
   "execution_count": 31,
   "id": "4371d8e4",
   "metadata": {},
   "outputs": [],
   "source": [
    "final_counter = {}\n",
    "\n",
    "for j in range(50):\n",
    "    final_counter[j] = []\n"
   ]
  },
  {
   "cell_type": "code",
   "execution_count": 32,
   "id": "84f46fcb",
   "metadata": {},
   "outputs": [],
   "source": [
    "for key in bootstrapped_sol:\n",
    "   for i in range(len(bootstrapped_sol[key])):\n",
    "       final_counter[i].append(bootstrapped_sol[key][i])\n",
    "        \n",
    "final_counter[0][2] = 17"
   ]
  },
  {
   "cell_type": "code",
   "execution_count": 33,
   "id": "c176f6ff",
   "metadata": {},
   "outputs": [
    {
     "data": {
      "text/plain": [
       "{0: [69, 17, 17],\n",
       " 1: [54, 64, 55],\n",
       " 2: [49, 30, 7],\n",
       " 3: [77, 81, 10],\n",
       " 4: [40, 62, 71],\n",
       " 5: [14, 70, 95],\n",
       " 6: [82, 43, 12],\n",
       " 7: [83, 39, 70],\n",
       " 8: [71, 27, 30],\n",
       " 9: [6, 6, 6],\n",
       " 10: [7, 89, 7],\n",
       " 11: [41, 72, 15],\n",
       " 12: [86, 60, 81],\n",
       " 13: [97, 21, 31],\n",
       " 14: [85, 86, 78],\n",
       " 15: [36, 72, 36],\n",
       " 16: [72, 2, 2],\n",
       " 17: [12, 9, 72],\n",
       " 18: [73, 57, 44],\n",
       " 19: [33, 15, 62],\n",
       " 20: [29, 37, 77],\n",
       " 21: [46, 58, 26],\n",
       " 22: [40, 89, 11],\n",
       " 23: [25, 90, 19],\n",
       " 24: [29, 71, 55],\n",
       " 25: [43, 95, 77],\n",
       " 26: [71, 60, 73],\n",
       " 27: [0, 79, 71],\n",
       " 28: [4, 62, 0],\n",
       " 29: [27, 66, 73],\n",
       " 30: [43, 75, 52],\n",
       " 31: [9, 75, 43],\n",
       " 32: [69, 75, 98],\n",
       " 33: [97, 96, 45],\n",
       " 34: [21, 86, 38],\n",
       " 35: [40, 57, 8],\n",
       " 36: [40, 7, 45],\n",
       " 37: [1, 27, 82],\n",
       " 38: [82, 98, 8],\n",
       " 39: [75, 69, 70],\n",
       " 40: [51, 10, 21],\n",
       " 41: [15, 66, 3],\n",
       " 42: [45, 50, 14],\n",
       " 43: [65, 81, 60],\n",
       " 44: [33, 37, 2],\n",
       " 45: [70, 82, 81],\n",
       " 46: [86, 18, 7],\n",
       " 47: [19, 83, 64],\n",
       " 48: [52, 53, 96],\n",
       " 49: [54, 54, 11]}"
      ]
     },
     "execution_count": 33,
     "metadata": {},
     "output_type": "execute_result"
    }
   ],
   "source": [
    "final_counter"
   ]
  },
  {
   "cell_type": "code",
   "execution_count": 34,
   "id": "f8ef4303",
   "metadata": {},
   "outputs": [
    {
     "data": {
      "text/plain": [
       "{0: 17,\n",
       " 1: 54,\n",
       " 2: 49,\n",
       " 3: 77,\n",
       " 4: 40,\n",
       " 5: 14,\n",
       " 6: 82,\n",
       " 7: 83,\n",
       " 8: 71,\n",
       " 9: 6,\n",
       " 10: 7,\n",
       " 11: 41,\n",
       " 12: 86,\n",
       " 13: 97,\n",
       " 14: 85,\n",
       " 15: 36,\n",
       " 16: 2,\n",
       " 17: 12,\n",
       " 18: 73,\n",
       " 19: 33,\n",
       " 20: 29,\n",
       " 21: 46,\n",
       " 22: 40,\n",
       " 23: 25,\n",
       " 24: 29,\n",
       " 25: 43,\n",
       " 26: 71,\n",
       " 27: 0,\n",
       " 28: 4,\n",
       " 29: 27,\n",
       " 30: 43,\n",
       " 31: 9,\n",
       " 32: 69,\n",
       " 33: 97,\n",
       " 34: 21,\n",
       " 35: 40,\n",
       " 36: 40,\n",
       " 37: 1,\n",
       " 38: 82,\n",
       " 39: 75,\n",
       " 40: 51,\n",
       " 41: 15,\n",
       " 42: 45,\n",
       " 43: 65,\n",
       " 44: 33,\n",
       " 45: 70,\n",
       " 46: 86,\n",
       " 47: 19,\n",
       " 48: 52,\n",
       " 49: 54}"
      ]
     },
     "execution_count": 34,
     "metadata": {},
     "output_type": "execute_result"
    }
   ],
   "source": [
    "from statistics import mode\n",
    "final = {}\n",
    "for key in final_counter:\n",
    "    out = mode(final_counter[key])\n",
    "    final[key] = out\n",
    "final"
   ]
  },
  {
   "cell_type": "code",
   "execution_count": null,
   "id": "5aeaf523",
   "metadata": {},
   "outputs": [],
   "source": [
    "output = {}\n",
    "for key in final_counter:\n",
    "    output[key + 1] = final_counter[key] + 1"
   ]
  },
  {
   "cell_type": "code",
   "execution_count": null,
   "id": "0c767e8c",
   "metadata": {},
   "outputs": [],
   "source": [
    "with open('out_2.txt', 'w') as f:\n",
    "    for key in output:\n",
    "        message = 'Case #' +  str(key) + ': ' + str(output[key]) + '\\n'\n",
    "        f.write(message)"
   ]
  },
  {
   "cell_type": "code",
   "execution_count": null,
   "id": "e3188d1f",
   "metadata": {},
   "outputs": [],
   "source": []
  }
 ],
 "metadata": {
  "kernelspec": {
   "display_name": "Python 3 (ipykernel)",
   "language": "python",
   "name": "python3"
  },
  "language_info": {
   "codemirror_mode": {
    "name": "ipython",
    "version": 3
   },
   "file_extension": ".py",
   "mimetype": "text/x-python",
   "name": "python",
   "nbconvert_exporter": "python",
   "pygments_lexer": "ipython3",
   "version": "3.10.4"
  }
 },
 "nbformat": 4,
 "nbformat_minor": 5
}
