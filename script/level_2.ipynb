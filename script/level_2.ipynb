{
 "cells": [
  {
   "cell_type": "code",
   "execution_count": 2,
   "id": "153150c3",
   "metadata": {},
   "outputs": [],
   "source": [
    "import numpy as np\n",
    "import pandas as pd\n",
    "import matplotlib.pyplot as plt"
   ]
  },
  {
   "cell_type": "code",
   "execution_count": 3,
   "id": "b31e2667",
   "metadata": {},
   "outputs": [],
   "source": [
    "sample_set = pd.read_table('../sample_test_set_1/sample_ts1_input.txt', names = ['Test'])"
   ]
  },
  {
   "cell_type": "code",
   "execution_count": 4,
   "id": "1c0a6098",
   "metadata": {},
   "outputs": [
    {
     "data": {
      "text/plain": [
       "<bound method DataFrame.info of                                                   Test\n",
       "0                                                    1\n",
       "1                                                    0\n",
       "2    0011101000101010000010000001000101010000000011...\n",
       "3    0101000010100010000000100100000101000100000111...\n",
       "4    1101110011111110000111100101111111011100000111...\n",
       "..                                                 ...\n",
       "97   1111001010110110000010101100100100100100000101...\n",
       "98   1111101110110110000110000100000001000100000100...\n",
       "99   1111001110111110000100001101100101001100000111...\n",
       "100  1111101111111111110111101101100101111100001111...\n",
       "101  1111111111111110010100101101100101011110000110...\n",
       "\n",
       "[102 rows x 1 columns]>"
      ]
     },
     "execution_count": 4,
     "metadata": {},
     "output_type": "execute_result"
    }
   ],
   "source": [
    "sample_set.info"
   ]
  },
  {
   "cell_type": "code",
   "execution_count": 5,
   "id": "b88daf6b",
   "metadata": {},
   "outputs": [
    {
     "data": {
      "text/html": [
       "<div>\n",
       "<style scoped>\n",
       "    .dataframe tbody tr th:only-of-type {\n",
       "        vertical-align: middle;\n",
       "    }\n",
       "\n",
       "    .dataframe tbody tr th {\n",
       "        vertical-align: top;\n",
       "    }\n",
       "\n",
       "    .dataframe thead th {\n",
       "        text-align: right;\n",
       "    }\n",
       "</style>\n",
       "<table border=\"1\" class=\"dataframe\">\n",
       "  <thead>\n",
       "    <tr style=\"text-align: right;\">\n",
       "      <th></th>\n",
       "      <th>Test</th>\n",
       "    </tr>\n",
       "  </thead>\n",
       "  <tbody>\n",
       "    <tr>\n",
       "      <th>0</th>\n",
       "      <td>1</td>\n",
       "    </tr>\n",
       "    <tr>\n",
       "      <th>1</th>\n",
       "      <td>0</td>\n",
       "    </tr>\n",
       "    <tr>\n",
       "      <th>2</th>\n",
       "      <td>0011101000101010000010000001000101010000000011...</td>\n",
       "    </tr>\n",
       "    <tr>\n",
       "      <th>3</th>\n",
       "      <td>0101000010100010000000100100000101000100000111...</td>\n",
       "    </tr>\n",
       "    <tr>\n",
       "      <th>4</th>\n",
       "      <td>1101110011111110000111100101111111011100000111...</td>\n",
       "    </tr>\n",
       "  </tbody>\n",
       "</table>\n",
       "</div>"
      ],
      "text/plain": [
       "                                                Test\n",
       "0                                                  1\n",
       "1                                                  0\n",
       "2  0011101000101010000010000001000101010000000011...\n",
       "3  0101000010100010000000100100000101000100000111...\n",
       "4  1101110011111110000111100101111111011100000111..."
      ]
     },
     "execution_count": 5,
     "metadata": {},
     "output_type": "execute_result"
    }
   ],
   "source": [
    "sample_set.head()"
   ]
  },
  {
   "cell_type": "code",
   "execution_count": 6,
   "id": "bbc7f750",
   "metadata": {},
   "outputs": [],
   "source": [
    "# Prvý riadok vstupu udáva počet testovacích prípadov T. \n",
    "T = sample_set.Test[0]"
   ]
  },
  {
   "cell_type": "code",
   "execution_count": 7,
   "id": "688c6a5a",
   "metadata": {},
   "outputs": [],
   "source": [
    "# Druhý riadok vstupu udáva percento testovacích prípadov P, na ktoré musíte správne odpovedať, \n",
    "# aby sa vaše riešenie považovalo za správne.\n",
    "P = sample_set.Test[1]"
   ]
  },
  {
   "cell_type": "code",
   "execution_count": 8,
   "id": "251a81c9",
   "metadata": {},
   "outputs": [],
   "source": [
    "n = 2\n",
    "test_cases = sample_set.drop(index = sample_set.index[:n])"
   ]
  },
  {
   "cell_type": "code",
   "execution_count": 9,
   "id": "118dca23",
   "metadata": {},
   "outputs": [
    {
     "data": {
      "text/plain": [
       "<bound method DataFrame.info of                                                   Test\n",
       "2    0011101000101010000010000001000101010000000011...\n",
       "3    0101000010100010000000100100000101000100000111...\n",
       "4    1101110011111110000111100101111111011100000111...\n",
       "5    1001000001100110000100000001000101000100000101...\n",
       "6    1111101011111110000111001101110111110101010111...\n",
       "..                                                 ...\n",
       "97   1111001010110110000010101100100100100100000101...\n",
       "98   1111101110110110000110000100000001000100000100...\n",
       "99   1111001110111110000100001101100101001100000111...\n",
       "100  1111101111111111110111101101100101111100001111...\n",
       "101  1111111111111110010100101101100101011110000110...\n",
       "\n",
       "[100 rows x 1 columns]>"
      ]
     },
     "execution_count": 9,
     "metadata": {},
     "output_type": "execute_result"
    }
   ],
   "source": [
    "test_cases.info"
   ]
  },
  {
   "cell_type": "code",
   "execution_count": 10,
   "id": "491abe6a",
   "metadata": {},
   "outputs": [
    {
     "data": {
      "text/html": [
       "<div>\n",
       "<style scoped>\n",
       "    .dataframe tbody tr th:only-of-type {\n",
       "        vertical-align: middle;\n",
       "    }\n",
       "\n",
       "    .dataframe tbody tr th {\n",
       "        vertical-align: top;\n",
       "    }\n",
       "\n",
       "    .dataframe thead th {\n",
       "        text-align: right;\n",
       "    }\n",
       "</style>\n",
       "<table border=\"1\" class=\"dataframe\">\n",
       "  <thead>\n",
       "    <tr style=\"text-align: right;\">\n",
       "      <th></th>\n",
       "      <th>Test</th>\n",
       "    </tr>\n",
       "  </thead>\n",
       "  <tbody>\n",
       "    <tr>\n",
       "      <th>2</th>\n",
       "      <td>0011101000101010000010000001000101010000000011...</td>\n",
       "    </tr>\n",
       "    <tr>\n",
       "      <th>3</th>\n",
       "      <td>0101000010100010000000100100000101000100000111...</td>\n",
       "    </tr>\n",
       "    <tr>\n",
       "      <th>4</th>\n",
       "      <td>1101110011111110000111100101111111011100000111...</td>\n",
       "    </tr>\n",
       "    <tr>\n",
       "      <th>5</th>\n",
       "      <td>1001000001100110000100000001000101000100000101...</td>\n",
       "    </tr>\n",
       "    <tr>\n",
       "      <th>6</th>\n",
       "      <td>1111101011111110000111001101110111110101010111...</td>\n",
       "    </tr>\n",
       "  </tbody>\n",
       "</table>\n",
       "</div>"
      ],
      "text/plain": [
       "                                                Test\n",
       "2  0011101000101010000010000001000101010000000011...\n",
       "3  0101000010100010000000100100000101000100000111...\n",
       "4  1101110011111110000111100101111111011100000111...\n",
       "5  1001000001100110000100000001000101000100000101...\n",
       "6  1111101011111110000111001101110111110101010111..."
      ]
     },
     "execution_count": 10,
     "metadata": {},
     "output_type": "execute_result"
    }
   ],
   "source": [
    "test_cases.head()"
   ]
  },
  {
   "cell_type": "code",
   "execution_count": 11,
   "id": "30a8f48f",
   "metadata": {},
   "outputs": [],
   "source": [
    "# Keď sa hráč i pokúsi odpovedať na otázku j, pravdepodobnosť, \n",
    "# že na ňu odpovie správne, je f( Si − Qj ), kde f je sigmoidná funkcia:\n",
    "import numpy as np\n",
    "\n",
    "def sigmoid(x):\n",
    "    return 1/(1 + np.exp(-x))"
   ]
  },
  {
   "cell_type": "code",
   "execution_count": 12,
   "id": "25b0dfaa",
   "metadata": {},
   "outputs": [],
   "source": [
    "def fair_probability(si, qj):\n",
    "    return sigmoid(si - qj)"
   ]
  },
  {
   "cell_type": "code",
   "execution_count": 13,
   "id": "78d9cc09",
   "metadata": {},
   "outputs": [],
   "source": [
    "## Hráč i má úroveň zručností Si a otázka j má úroveň obtiažnosti Qj.\n",
    "# každá obtiažnosť otázky sa vyberá jednotne a náhodne z rozsahu [−3.00, 3.00] \n",
    "decision_array = [-3.00, 3.00]"
   ]
  },
  {
   "cell_type": "code",
   "execution_count": 14,
   "id": "fc1c339a",
   "metadata": {},
   "outputs": [
    {
     "data": {
      "text/plain": [
       "(2.032919345637673, -2.1371936450865032)"
      ]
     },
     "execution_count": 14,
     "metadata": {},
     "output_type": "execute_result"
    }
   ],
   "source": [
    "# a nezávisle od všetkých ostatných možností. \n",
    "Si = np.random.uniform(decision_array[0], decision_array[1])\n",
    "Qj = np.random.uniform(decision_array[0], decision_array[1])\n",
    "Si, Qj"
   ]
  },
  {
   "cell_type": "code",
   "execution_count": 15,
   "id": "55235219",
   "metadata": {},
   "outputs": [
    {
     "data": {
      "text/plain": [
       "0.9847845719279239"
      ]
     },
     "execution_count": 15,
     "metadata": {},
     "output_type": "execute_result"
    }
   ],
   "source": [
    "fair_probability(Si, Qj)"
   ]
  },
  {
   "cell_type": "code",
   "execution_count": 16,
   "id": "52567270",
   "metadata": {},
   "outputs": [],
   "source": [
    "unfair_probability = 0.5"
   ]
  },
  {
   "cell_type": "code",
   "execution_count": 17,
   "id": "bd8f2d1c",
   "metadata": {},
   "outputs": [],
   "source": [
    "def split(word):\n",
    "    return [char for char in word]"
   ]
  },
  {
   "cell_type": "code",
   "execution_count": 18,
   "id": "82087696",
   "metadata": {},
   "outputs": [
    {
     "data": {
      "text/plain": [
       "Test    0011101000101010000010000001000101010000000011...\n",
       "Name: 2, dtype: object"
      ]
     },
     "execution_count": 18,
     "metadata": {},
     "output_type": "execute_result"
    }
   ],
   "source": [
    "test_cases.iloc[0]"
   ]
  },
  {
   "cell_type": "code",
   "execution_count": 19,
   "id": "2898399a",
   "metadata": {
    "scrolled": true
   },
   "outputs": [
    {
     "name": "stdout",
     "output_type": "stream",
     "text": [
      "CPU times: user 3.25 s, sys: 6.47 ms, total: 3.26 s\n",
      "Wall time: 3.26 s\n"
     ]
    }
   ],
   "source": [
    "%%time\n",
    "\n",
    "row_lengts = 10000\n",
    "Qjs = []\n",
    "for i in range(row_lengts):\n",
    "    Qjs.append(np.random.uniform(decision_array[0], decision_array[1]))\n",
    "\n",
    "diff_vals = []\n",
    "for index, row in test_cases.iterrows():\n",
    "    np_array = np.array(split(row['Test'])).astype('int32')\n",
    "    const_of_diff = 0\n",
    "    Si = np.random.uniform(decision_array[0], decision_array[1])\n",
    "    \n",
    "    for i in range(len(np_array)):\n",
    "        proba = fair_probability(Si, Qjs[i])\n",
    "        response = 0\n",
    "        if proba > 0.5:\n",
    "            response = 1\n",
    "        \n",
    "        # print('index,', index, 'Si', Si, 'Qj', Qjs[i], 'probability', proba, 'our_prediction', response, 'real_val', np_array[i])\n",
    "        if np_array[i] != response:\n",
    "            const_of_diff = const_of_diff + 1\n",
    "            \n",
    "    diff_vals.append(const_of_diff)\n",
    "    "
   ]
  },
  {
   "cell_type": "code",
   "execution_count": 20,
   "id": "ce77bba1",
   "metadata": {},
   "outputs": [
    {
     "name": "stdout",
     "output_type": "stream",
     "text": [
      "[4218, 7661, 4441, 3069, 4350, 4942, 6404, 4911, 3781, 6552, 6381, 3763, 7358, 7274, 5773, 7718, 6400, 7766, 4585, 5189, 3486, 4911, 5879, 6104, 4704, 5129, 5352, 4420, 2380, 6280, 4925, 6117, 5202, 6927, 5732, 3718, 6335, 5295, 4341, 4639, 2253, 6242, 3867, 5094, 5943, 3170, 4823, 2131, 5211, 7309, 5083, 4647, 5094, 4722, 4964, 6628, 4660, 5530, 1609, 6321, 4910, 4746, 3325, 6577, 1816, 3949, 6631, 5780, 5482, 2153, 6350, 5060, 4303, 5358, 4290, 7789, 5671, 4058, 6685, 3584, 3795, 5885, 8058, 4471, 4145, 5231, 5049, 4725, 3160, 6143, 5204, 3757, 5181, 8133, 5412, 6559, 2900, 4161, 6620, 4791]\n",
      "8133\n",
      "1609\n"
     ]
    }
   ],
   "source": [
    "print(diff_vals)\n",
    "print(np.max(diff_vals))\n",
    "print(np.min(diff_vals))"
   ]
  },
  {
   "cell_type": "code",
   "execution_count": 21,
   "id": "f41751ff",
   "metadata": {},
   "outputs": [
    {
     "name": "stdout",
     "output_type": "stream",
     "text": [
      "1\n",
      "15\n",
      "17\n",
      "75\n",
      "82\n",
      "93\n",
      "CPU times: user 144 µs, sys: 54 µs, total: 198 µs\n",
      "Wall time: 175 µs\n"
     ]
    }
   ],
   "source": [
    "%%time\n",
    "for i in range(len(diff_vals)):\n",
    "    if diff_vals[i] > 7500:\n",
    "        print(i)"
   ]
  },
  {
   "cell_type": "code",
   "execution_count": 72,
   "id": "10a5a710",
   "metadata": {},
   "outputs": [
    {
     "name": "stdout",
     "output_type": "stream",
     "text": [
      "CPU times: user 17min 43s, sys: 885 ms, total: 17min 44s\n",
      "Wall time: 17min 44s\n"
     ]
    }
   ],
   "source": [
    "# %%time\n",
    "# ## Bootstrapping\n",
    "# bootstrapped_attempts = []\n",
    "# for j in range(300):\n",
    "#     row_lengths = 10000\n",
    "#     Qjs = []\n",
    "#     for i in range(row_lengts):\n",
    "#         Qjs.append(np.random.uniform(decision_array[0], decision_array[1]))\n",
    "    \n",
    "#     diff_vals = []\n",
    "#     for index, row in test_cases.iterrows():\n",
    "#         np_array = np.array(split(row['Test'])).astype('int32')\n",
    "#         const_of_diff = 0\n",
    "#         Si = np.random.uniform(decision_array[0], decision_array[1])\n",
    "\n",
    "#         for x in range(row_lengths):\n",
    "#             proba = fair_probability(Si, Qjs[x])\n",
    "#             response = 0\n",
    "#             if proba > 0.5:\n",
    "#                 response = 1\n",
    "#             if np_array[x] != response:\n",
    "#                 const_of_diff = const_of_diff + 1\n",
    "\n",
    "#         diff_vals.append(const_of_diff)\n",
    "        \n",
    "#     max_value = max(diff_vals)\n",
    "#     max_index = diff_vals.index(max_value)\n",
    "#     bootstrapped_attempts.append(max_index)"
   ]
  },
  {
   "cell_type": "code",
   "execution_count": 22,
   "id": "4fe584d9",
   "metadata": {},
   "outputs": [],
   "source": [
    "def calculate_differences(data_frame):\n",
    "    row_lengths = 10000\n",
    "    Qjs = [np.random.uniform(decision_array[0], decision_array[1]) for i in range(row_lengths)]\n",
    "    diff_vals = []\n",
    "    for index, row in data_frame.iterrows():\n",
    "        const_of_diff = 0\n",
    "        Si = np.random.uniform(decision_array[0], decision_array[1])\n",
    "\n",
    "        responses = np.array(split(row['Test'])).astype('int32')\n",
    "        sim_responses = np.array([fair_probability(Si, Qjs[i]) > 0.5 for i in range(row_lengths)])\n",
    "\n",
    "        for (sim_res, response) in zip(sim_responses, responses):\n",
    "            if sim_res != response:\n",
    "                const_of_diff += 1\n",
    "\n",
    "        diff_vals.append(const_of_diff)\n",
    "\n",
    "    max_value = max(diff_vals)\n",
    "    return diff_vals.index(max_value)\n"
   ]
  },
  {
   "cell_type": "code",
   "execution_count": null,
   "id": "268eee40",
   "metadata": {},
   "outputs": [],
   "source": [
    "%%time\n",
    "## Bootstrapping\n",
    "bootstrapped_attempts = []\n",
    "for j in range(500):\n",
    "    val = calculate_differences(test_cases)\n",
    "    bootstrapped_attempts.append(val)"
   ]
  },
  {
   "cell_type": "code",
   "execution_count": null,
   "id": "91a00342",
   "metadata": {},
   "outputs": [],
   "source": [
    "bootstrapped_attempts"
   ]
  },
  {
   "cell_type": "code",
   "execution_count": null,
   "id": "245eda2e",
   "metadata": {},
   "outputs": [],
   "source": [
    "plt.hist(bootstrapped_attempts);"
   ]
  },
  {
   "cell_type": "code",
   "execution_count": null,
   "id": "5785fb6f",
   "metadata": {},
   "outputs": [],
   "source": [
    "counters = {}\n",
    "for i in range(len(bootstrapped_attempts)):\n",
    "    if bootstrapped_attempts[i] in counters:\n",
    "        counters[bootstrapped_attempts[i]] = counters[bootstrapped_attempts[i]] + 1\n",
    "    else:\n",
    "        counters[bootstrapped_attempts[i]] = 1\n",
    "        \n",
    "counters"
   ]
  },
  {
   "cell_type": "code",
   "execution_count": null,
   "id": "229991b9",
   "metadata": {},
   "outputs": [],
   "source": [
    "max_value = max(counters, key=counters.get)\n",
    "print(max_value)"
   ]
  },
  {
   "cell_type": "code",
   "execution_count": 25,
   "id": "07f07fa8",
   "metadata": {},
   "outputs": [],
   "source": [
    "# asi riesenie 58 + 1: 42 -> pri 200 pokusoch najvaic krat\n",
    "with open('output_1.txt', 'w') as f:\n",
    "    f.write('Case #1: 59')"
   ]
  },
  {
   "cell_type": "code",
   "execution_count": 1,
   "id": "f25d5db9",
   "metadata": {},
   "outputs": [],
   "source": []
  },
  {
   "cell_type": "code",
   "execution_count": null,
   "id": "507e8a85",
   "metadata": {},
   "outputs": [],
   "source": []
  }
 ],
 "metadata": {
  "kernelspec": {
   "display_name": "Python 3 (ipykernel)",
   "language": "python",
   "name": "python3"
  },
  "language_info": {
   "codemirror_mode": {
    "name": "ipython",
    "version": 3
   },
   "file_extension": ".py",
   "mimetype": "text/x-python",
   "name": "python",
   "nbconvert_exporter": "python",
   "pygments_lexer": "ipython3",
   "version": "3.10.4"
  }
 },
 "nbformat": 4,
 "nbformat_minor": 5
}
