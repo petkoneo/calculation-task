{
 "cells": [
  {
   "cell_type": "code",
   "execution_count": 1,
   "id": "60bd29d8",
   "metadata": {},
   "outputs": [],
   "source": [
    "import numpy as np\n",
    "import pandas as pd\n",
    "import matplotlib.pyplot as plt\n",
    "import json"
   ]
  },
  {
   "cell_type": "code",
   "execution_count": 2,
   "id": "fcc2cc9e",
   "metadata": {},
   "outputs": [],
   "source": [
    "sample_set = pd.read_table('../test_set_2/ts2_input.txt', names = ['Test'])"
   ]
  },
  {
   "cell_type": "code",
   "execution_count": 3,
   "id": "85bb632d",
   "metadata": {},
   "outputs": [
    {
     "data": {
      "text/plain": [
       "<bound method DataFrame.info of                                                    Test\n",
       "0                                                    50\n",
       "1                                                    86\n",
       "2     0010000010010010001011001110100101000000000000...\n",
       "3     0111001010110010111000100110110101010000001110...\n",
       "4     0110000000110011011001001101110101000001000100...\n",
       "...                                                 ...\n",
       "4997  0011110100110010010101011111011101100011001011...\n",
       "4998  1101111101110110110111111111011101101101111001...\n",
       "4999  1111111111111111110101111111111111111111101101...\n",
       "5000  0011010000110011110111010101111001101001101001...\n",
       "5001  0101110001101101110111011011011111110011111001...\n",
       "\n",
       "[5002 rows x 1 columns]>"
      ]
     },
     "execution_count": 3,
     "metadata": {},
     "output_type": "execute_result"
    }
   ],
   "source": [
    "sample_set.info"
   ]
  },
  {
   "cell_type": "code",
   "execution_count": 4,
   "id": "4b698d13",
   "metadata": {},
   "outputs": [
    {
     "data": {
      "text/html": [
       "<div>\n",
       "<style scoped>\n",
       "    .dataframe tbody tr th:only-of-type {\n",
       "        vertical-align: middle;\n",
       "    }\n",
       "\n",
       "    .dataframe tbody tr th {\n",
       "        vertical-align: top;\n",
       "    }\n",
       "\n",
       "    .dataframe thead th {\n",
       "        text-align: right;\n",
       "    }\n",
       "</style>\n",
       "<table border=\"1\" class=\"dataframe\">\n",
       "  <thead>\n",
       "    <tr style=\"text-align: right;\">\n",
       "      <th></th>\n",
       "      <th>Test</th>\n",
       "    </tr>\n",
       "  </thead>\n",
       "  <tbody>\n",
       "    <tr>\n",
       "      <th>0</th>\n",
       "      <td>50</td>\n",
       "    </tr>\n",
       "    <tr>\n",
       "      <th>1</th>\n",
       "      <td>86</td>\n",
       "    </tr>\n",
       "    <tr>\n",
       "      <th>2</th>\n",
       "      <td>0010000010010010001011001110100101000000000000...</td>\n",
       "    </tr>\n",
       "    <tr>\n",
       "      <th>3</th>\n",
       "      <td>0111001010110010111000100110110101010000001110...</td>\n",
       "    </tr>\n",
       "    <tr>\n",
       "      <th>4</th>\n",
       "      <td>0110000000110011011001001101110101000001000100...</td>\n",
       "    </tr>\n",
       "  </tbody>\n",
       "</table>\n",
       "</div>"
      ],
      "text/plain": [
       "                                                Test\n",
       "0                                                 50\n",
       "1                                                 86\n",
       "2  0010000010010010001011001110100101000000000000...\n",
       "3  0111001010110010111000100110110101010000001110...\n",
       "4  0110000000110011011001001101110101000001000100..."
      ]
     },
     "execution_count": 4,
     "metadata": {},
     "output_type": "execute_result"
    }
   ],
   "source": [
    "sample_set.head()"
   ]
  },
  {
   "cell_type": "code",
   "execution_count": 5,
   "id": "7fe86146",
   "metadata": {},
   "outputs": [],
   "source": [
    "# Prvý riadok vstupu udáva počet testovacích prípadov T. \n",
    "T = sample_set.Test[0]"
   ]
  },
  {
   "cell_type": "code",
   "execution_count": 6,
   "id": "ac2fa51a",
   "metadata": {},
   "outputs": [],
   "source": [
    "# Druhý riadok vstupu udáva percento testovacích prípadov P, na ktoré musíte správne odpovedať, \n",
    "# aby sa vaše riešenie považovalo za správne.\n",
    "P = sample_set.Test[1]"
   ]
  },
  {
   "cell_type": "code",
   "execution_count": 7,
   "id": "54cbcd8d",
   "metadata": {},
   "outputs": [],
   "source": [
    "n = 2\n",
    "test_cases = sample_set.drop(index = sample_set.index[:n])"
   ]
  },
  {
   "cell_type": "code",
   "execution_count": 8,
   "id": "64202d87",
   "metadata": {},
   "outputs": [
    {
     "data": {
      "text/plain": [
       "<bound method DataFrame.info of                                                    Test\n",
       "2     0010000010010010001011001110100101000000000000...\n",
       "3     0111001010110010111000100110110101010000001110...\n",
       "4     0110000000110011011001001101110101000001000100...\n",
       "5     0010001010111010011011001000000100000000001100...\n",
       "6     0111011100110110011010101110110101110100011100...\n",
       "...                                                 ...\n",
       "4997  0011110100110010010101011111011101100011001011...\n",
       "4998  1101111101110110110111111111011101101101111001...\n",
       "4999  1111111111111111110101111111111111111111101101...\n",
       "5000  0011010000110011110111010101111001101001101001...\n",
       "5001  0101110001101101110111011011011111110011111001...\n",
       "\n",
       "[5000 rows x 1 columns]>"
      ]
     },
     "execution_count": 8,
     "metadata": {},
     "output_type": "execute_result"
    }
   ],
   "source": [
    "test_cases.info"
   ]
  },
  {
   "cell_type": "code",
   "execution_count": 9,
   "id": "7caea1d8",
   "metadata": {},
   "outputs": [
    {
     "data": {
      "text/html": [
       "<div>\n",
       "<style scoped>\n",
       "    .dataframe tbody tr th:only-of-type {\n",
       "        vertical-align: middle;\n",
       "    }\n",
       "\n",
       "    .dataframe tbody tr th {\n",
       "        vertical-align: top;\n",
       "    }\n",
       "\n",
       "    .dataframe thead th {\n",
       "        text-align: right;\n",
       "    }\n",
       "</style>\n",
       "<table border=\"1\" class=\"dataframe\">\n",
       "  <thead>\n",
       "    <tr style=\"text-align: right;\">\n",
       "      <th></th>\n",
       "      <th>Test</th>\n",
       "    </tr>\n",
       "  </thead>\n",
       "  <tbody>\n",
       "    <tr>\n",
       "      <th>2</th>\n",
       "      <td>0010000010010010001011001110100101000000000000...</td>\n",
       "    </tr>\n",
       "    <tr>\n",
       "      <th>3</th>\n",
       "      <td>0111001010110010111000100110110101010000001110...</td>\n",
       "    </tr>\n",
       "    <tr>\n",
       "      <th>4</th>\n",
       "      <td>0110000000110011011001001101110101000001000100...</td>\n",
       "    </tr>\n",
       "    <tr>\n",
       "      <th>5</th>\n",
       "      <td>0010001010111010011011001000000100000000001100...</td>\n",
       "    </tr>\n",
       "    <tr>\n",
       "      <th>6</th>\n",
       "      <td>0111011100110110011010101110110101110100011100...</td>\n",
       "    </tr>\n",
       "  </tbody>\n",
       "</table>\n",
       "</div>"
      ],
      "text/plain": [
       "                                                Test\n",
       "2  0010000010010010001011001110100101000000000000...\n",
       "3  0111001010110010111000100110110101010000001110...\n",
       "4  0110000000110011011001001101110101000001000100...\n",
       "5  0010001010111010011011001000000100000000001100...\n",
       "6  0111011100110110011010101110110101110100011100..."
      ]
     },
     "execution_count": 9,
     "metadata": {},
     "output_type": "execute_result"
    }
   ],
   "source": [
    "test_cases.head()"
   ]
  },
  {
   "cell_type": "code",
   "execution_count": 10,
   "id": "59da776f",
   "metadata": {},
   "outputs": [
    {
     "data": {
      "text/plain": [
       "5000"
      ]
     },
     "execution_count": 10,
     "metadata": {},
     "output_type": "execute_result"
    }
   ],
   "source": [
    "len(test_cases['Test'])"
   ]
  },
  {
   "cell_type": "code",
   "execution_count": 11,
   "id": "eafa59cd",
   "metadata": {},
   "outputs": [],
   "source": [
    "def split(word):\n",
    "    return [char for char in word]"
   ]
  },
  {
   "cell_type": "code",
   "execution_count": 12,
   "id": "d08230ec",
   "metadata": {},
   "outputs": [],
   "source": [
    "# Keď sa hráč i pokúsi odpovedať na otázku j, pravdepodobnosť, \n",
    "# že na ňu odpovie správne, je f( Si − Qj ), kde f je sigmoidná funkcia:\n",
    "import numpy as np\n",
    "\n",
    "def sigmoid(x):\n",
    "    return 1/(1 + np.exp(-x))"
   ]
  },
  {
   "cell_type": "code",
   "execution_count": 13,
   "id": "468ea099",
   "metadata": {},
   "outputs": [],
   "source": [
    "def fair_probability(si, qj):\n",
    "    return sigmoid(si - qj)"
   ]
  },
  {
   "cell_type": "code",
   "execution_count": 14,
   "id": "1ab65b4d",
   "metadata": {},
   "outputs": [],
   "source": [
    "## Hráč i má úroveň zručností Si a otázka j má úroveň obtiažnosti Qj.\n",
    "# každá obtiažnosť otázky sa vyberá jednotne a náhodne z rozsahu [−3.00, 3.00] \n",
    "decision_array = [-3.00, 3.00]"
   ]
  },
  {
   "cell_type": "code",
   "execution_count": 15,
   "id": "3a859aeb",
   "metadata": {},
   "outputs": [
    {
     "data": {
      "text/plain": [
       "(-2.749427080349873, 1.4356119684178283)"
      ]
     },
     "execution_count": 15,
     "metadata": {},
     "output_type": "execute_result"
    }
   ],
   "source": [
    "# a nezávisle od všetkých ostatných možností. \n",
    "Si = np.random.uniform(decision_array[0], decision_array[1])\n",
    "Qj = np.random.uniform(decision_array[0], decision_array[1])\n",
    "Si, Qj"
   ]
  },
  {
   "cell_type": "code",
   "execution_count": 16,
   "id": "508b4bc0",
   "metadata": {},
   "outputs": [
    {
     "data": {
      "text/plain": [
       "0.01499338801699691"
      ]
     },
     "execution_count": 16,
     "metadata": {},
     "output_type": "execute_result"
    }
   ],
   "source": [
    "fair_probability(Si, Qj)"
   ]
  },
  {
   "cell_type": "code",
   "execution_count": 17,
   "id": "1beb9ef4",
   "metadata": {},
   "outputs": [],
   "source": [
    "unfair_probability = 0.5"
   ]
  },
  {
   "cell_type": "code",
   "execution_count": 18,
   "id": "4c88dbc4",
   "metadata": {},
   "outputs": [],
   "source": [
    "# reset index\n",
    "test_cases.reset_index(inplace=True)"
   ]
  },
  {
   "cell_type": "code",
   "execution_count": 19,
   "id": "1398602b",
   "metadata": {},
   "outputs": [
    {
     "data": {
      "text/plain": [
       "100.0"
      ]
     },
     "execution_count": 19,
     "metadata": {},
     "output_type": "execute_result"
    }
   ],
   "source": [
    " len(test_cases['Test'])/ 50"
   ]
  },
  {
   "cell_type": "code",
   "execution_count": 20,
   "id": "f111e559",
   "metadata": {},
   "outputs": [
    {
     "data": {
      "text/plain": [
       "50"
      ]
     },
     "execution_count": 20,
     "metadata": {},
     "output_type": "execute_result"
    }
   ],
   "source": [
    "## Chunking\n",
    "n = int(len(test_cases['Test']) / int(T))  #chunk row size\n",
    "list_df = [test_cases[i:i+n] for i in range(0, test_cases.shape[0],n)]\n",
    "len(list_df)"
   ]
  },
  {
   "cell_type": "code",
   "execution_count": 28,
   "id": "41dce8e7",
   "metadata": {},
   "outputs": [
    {
     "ename": "KeyboardInterrupt",
     "evalue": "",
     "output_type": "error",
     "traceback": [
      "\u001b[0;31m---------------------------------------------------------------------------\u001b[0m",
      "\u001b[0;31mKeyboardInterrupt\u001b[0m                         Traceback (most recent call last)",
      "File \u001b[0;32m<timed exec>:15\u001b[0m, in \u001b[0;36m<module>\u001b[0;34m\u001b[0m\n",
      "Input \u001b[0;32mIn [13]\u001b[0m, in \u001b[0;36mfair_probability\u001b[0;34m(si, qj)\u001b[0m\n\u001b[0;32m----> 1\u001b[0m \u001b[38;5;28;01mdef\u001b[39;00m \u001b[38;5;21mfair_probability\u001b[39m(si, qj):\n\u001b[1;32m      2\u001b[0m     \u001b[38;5;28;01mreturn\u001b[39;00m sigmoid(si \u001b[38;5;241m-\u001b[39m qj)\n",
      "\u001b[0;31mKeyboardInterrupt\u001b[0m: "
     ]
    }
   ],
   "source": [
    "# %%time\n",
    "\n",
    "# solutions = []\n",
    "# for df in list_df:\n",
    "#     row_lengts = 10000\n",
    "#     Qjs = []\n",
    "#     for i in range(row_lengts):\n",
    "#         Qjs.append(np.random.uniform(decision_array[0], decision_array[1]))\n",
    "\n",
    "#     diff_vals = []\n",
    "#     for index, row in df.iterrows():\n",
    "#         np_array = np.array(split(row['Test'])).astype('int32')\n",
    "#         const_of_diff = 0\n",
    "#         Si = np.random.uniform(decision_array[0], decision_array[1])\n",
    "\n",
    "#         for i in range(len(np_array)):\n",
    "#             proba = fair_probability(Si, Qjs[i])\n",
    "#             response = 0\n",
    "#             if proba > 0.5:\n",
    "#                 response = 1\n",
    "\n",
    "#             # print('index,', index, 'Si', Si, 'Qj', Qjs[i], 'probability', proba, 'our_prediction', response, 'real_val', np_array[i])\n",
    "#             if np_array[i] != response:\n",
    "#                 const_of_diff = const_of_diff + 1\n",
    "\n",
    "#         diff_vals.append(const_of_diff)\n",
    "        \n",
    "#     max_value = max(diff_vals)\n",
    "#     max_index = diff_vals.index(max_value)\n",
    "#     solutions.append(max_index)\n",
    "    "
   ]
  },
  {
   "cell_type": "code",
   "execution_count": 22,
   "id": "217436c0",
   "metadata": {},
   "outputs": [],
   "source": [
    "# solutions"
   ]
  },
  {
   "cell_type": "code",
   "execution_count": 23,
   "id": "bef1c7c6",
   "metadata": {},
   "outputs": [
    {
     "name": "stdout",
     "output_type": "stream",
     "text": [
      "CPU times: user 14h 20min 52s, sys: 32.3 s, total: 14h 21min 25s\n",
      "Wall time: 14h 21min 47s\n"
     ]
    }
   ],
   "source": [
    "%%time\n",
    "\n",
    "bootstrapped_sol = {}\n",
    "for m in range(300):\n",
    "    solutions = []\n",
    "    for df in list_df:\n",
    "        row_lengts = 10000\n",
    "        Qjs = []\n",
    "        for i in range(row_lengts):\n",
    "            Qjs.append(np.random.uniform(decision_array[0], decision_array[1]))\n",
    "\n",
    "        diff_vals = []\n",
    "        for index, row in df.iterrows():\n",
    "            np_array = np.array(split(row['Test'])).astype('int32')\n",
    "            const_of_diff = 0\n",
    "            Si = np.random.uniform(decision_array[0], decision_array[1])\n",
    "\n",
    "            for x in range(len(np_array)):\n",
    "                proba = fair_probability(Si, Qjs[x])\n",
    "                response = 0\n",
    "                if proba > 0.5:\n",
    "                    response = 1\n",
    "\n",
    "                # print('index,', index, 'Si', Si, 'Qj', Qjs[i], 'probability', proba, 'our_prediction', response, 'real_val', np_array[i])\n",
    "                if np_array[x] != response:\n",
    "                    const_of_diff = const_of_diff + 1\n",
    "\n",
    "            diff_vals.append(const_of_diff)\n",
    "\n",
    "        max_value = max(diff_vals)\n",
    "        max_index = diff_vals.index(max_value)\n",
    "        solutions.append(max_index)\n",
    "        \n",
    "    bootstrapped_sol[m] = solutions"
   ]
  },
  {
   "cell_type": "code",
   "execution_count": 25,
   "id": "4cc084d7",
   "metadata": {},
   "outputs": [],
   "source": [
    "# with open('midput3.txt', 'w') as f:\n",
    "#     f.write(json.dumps(bootstrapped_sol))"
   ]
  },
  {
   "cell_type": "code",
   "execution_count": 26,
   "id": "f498f08f",
   "metadata": {},
   "outputs": [],
   "source": [
    "final_counter = {}\n",
    "\n",
    "for j in range(50):\n",
    "    final_counter[j] = []\n",
    "final_counter = {}\n",
    "\n",
    "for j in range(50):\n",
    "    final_counter[j] = []\n",
    "for key in bootstrapped_sol:\n",
    "   for i in range(len(bootstrapped_sol[key])):\n",
    "       final_counter[i].append(bootstrapped_sol[key][i])\n",
    "from statistics import mode\n",
    "\n",
    "for key in final_counter:\n",
    "    out = mode(final_counter[key])\n",
    "    final_counter[key] = out\n",
    "output = {}\n",
    "for key in final_counter:\n",
    "    output[key + 1] = final_counter[key] + 1\n"
   ]
  },
  {
   "cell_type": "code",
   "execution_count": 27,
   "id": "82ffd9da",
   "metadata": {},
   "outputs": [],
   "source": [
    "with open('out_3.txt', 'w') as f:\n",
    "    for key in output:\n",
    "        message = 'Case #' +  str(key) + ': ' + str(output[key]) + '\\n'\n",
    "        f.write(message)"
   ]
  },
  {
   "cell_type": "code",
   "execution_count": null,
   "id": "42e5e7bc",
   "metadata": {},
   "outputs": [],
   "source": []
  }
 ],
 "metadata": {
  "kernelspec": {
   "display_name": "Python 3 (ipykernel)",
   "language": "python",
   "name": "python3"
  },
  "language_info": {
   "codemirror_mode": {
    "name": "ipython",
    "version": 3
   },
   "file_extension": ".py",
   "mimetype": "text/x-python",
   "name": "python",
   "nbconvert_exporter": "python",
   "pygments_lexer": "ipython3",
   "version": "3.10.4"
  }
 },
 "nbformat": 4,
 "nbformat_minor": 5
}
